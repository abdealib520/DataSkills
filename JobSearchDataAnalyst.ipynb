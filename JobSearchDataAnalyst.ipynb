{
 "cells": [
  {
   "cell_type": "markdown",
   "id": "5cecff19",
   "metadata": {},
   "source": [
    "# Importing The Libraries"
   ]
  },
  {
   "cell_type": "code",
   "execution_count": 1,
   "id": "3544ce9e",
   "metadata": {},
   "outputs": [],
   "source": [
    "import requests\n",
    "import numpy as np\n",
    "import pandas as pd\n",
    "import matplotlib.pyplot as plt\n",
    "import warnings\n",
    "warnings.filterwarnings('ignore')"
   ]
  },
  {
   "cell_type": "markdown",
   "id": "1883d13d",
   "metadata": {},
   "source": [
    "# Data Collection\n",
    "\n",
    "Using the JSearch API we can type in 'Data Analyst in India' and get the search results. The results are stored in JSON format "
   ]
  },
  {
   "cell_type": "code",
   "execution_count": 2,
   "id": "7537f3e2",
   "metadata": {},
   "outputs": [
    {
     "name": "stdout",
     "output_type": "stream",
     "text": [
      "5\n"
     ]
    }
   ],
   "source": [
    "\n",
    "url = \"https://jsearch.p.rapidapi.com/search\"\n",
    "\n",
    "page = 1\n",
    "num_pages = 20\n",
    "dataset = []\n",
    "\n",
    "while page<=100:\n",
    "    querystring = {\"query\":\"Data Analyst in India\",\"page\":str(page),\"num_pages\":str(num_pages)}\n",
    "\n",
    "    headers = {\"X-RapidAPI-Key\": \"bf819297demsha06e93e4b9aecb1p1b16ccjsn728f04d84771\",\n",
    "               \"X-RapidAPI-Host\": \"jsearch.p.rapidapi.com\"\n",
    "    }\n",
    "\n",
    "    response = requests.get(url, headers=headers, params=querystring)\n",
    "    dataset.append(response.json())\n",
    "    page+=20\n",
    "\n",
    "print(len(dataset))\n",
    "data = response.json()\n",
    "data = data['data']"
   ]
  },
  {
   "cell_type": "markdown",
   "id": "82875762",
   "metadata": {},
   "source": [
    "# Data Cleaning\n",
    "\n",
    "We initialize an empty dataframe first.Then we insert employer name, job title, job description and job city into the dataframe"
   ]
  },
  {
   "cell_type": "code",
   "execution_count": 3,
   "id": "c4d64cc0",
   "metadata": {},
   "outputs": [],
   "source": [
    "\n",
    "df = pd.DataFrame({'employer_name': pd.Series(dtype = 'str'),\n",
    "                'job_title': pd.Series(dtype = 'str'),\n",
    "                'job_description': pd.Series(dtype = 'str'),\n",
    "                'job_city': pd.Series(dtype = 'str')})\n"
   ]
  },
  {
   "cell_type": "code",
   "execution_count": 4,
   "id": "46a39974",
   "metadata": {},
   "outputs": [],
   "source": [
    "j = 0\n",
    "while j<5:\n",
    "    data_new = dataset[j]\n",
    "    data = data_new['data']\n",
    "    for i in range(len(data)):\n",
    "        row = pd.Series([data[i]['employer_name'],data[i]['job_title'],data[i]['job_description'],data[i]['job_city']],index = df.columns)\n",
    "        df = df.append(row,ignore_index = True)\n",
    "    j+=1\n",
    "df.to_csv('Data Analyst.csv',index = False)"
   ]
  },
  {
   "cell_type": "code",
   "execution_count": 5,
   "id": "c4f24a34",
   "metadata": {
    "scrolled": false
   },
   "outputs": [
    {
     "name": "stdout",
     "output_type": "stream",
     "text": [
      "<class 'pandas.core.frame.DataFrame'>\n",
      "RangeIndex: 259 entries, 0 to 258\n",
      "Data columns (total 4 columns):\n",
      " #   Column           Non-Null Count  Dtype \n",
      "---  ------           --------------  ----- \n",
      " 0   employer_name    259 non-null    object\n",
      " 1   job_title        259 non-null    object\n",
      " 2   job_description  259 non-null    object\n",
      " 3   job_city         220 non-null    object\n",
      "dtypes: object(4)\n",
      "memory usage: 8.2+ KB\n",
      "None\n"
     ]
    }
   ],
   "source": [
    "print(df.info())"
   ]
  },
  {
   "cell_type": "markdown",
   "id": "0a41d544",
   "metadata": {},
   "source": [
    "We set the keywords that we are going to search in the job description and store them in a list. We then create new boolean columns with the same name as these items."
   ]
  },
  {
   "cell_type": "code",
   "execution_count": 6,
   "id": "fa8211f9",
   "metadata": {},
   "outputs": [],
   "source": [
    "data_languages = ['Python','R','SQL','Java','Scala','C++','JavaScript']\n",
    "softwares = ['Excel','Power BI','Tableau','SPSS','SAS','QlikView']"
   ]
  },
  {
   "cell_type": "code",
   "execution_count": 7,
   "id": "e2689430",
   "metadata": {},
   "outputs": [],
   "source": [
    "df2 = df.copy()\n",
    "for i in range(len(data_languages)):\n",
    "    df2[data_languages[i]] = pd.Series(dtype = 'boolean')\n",
    "for i in range(len(softwares)):\n",
    "    df2[softwares[i]] = pd.Series(dtype = 'boolean')"
   ]
  },
  {
   "cell_type": "code",
   "execution_count": 8,
   "id": "55519ca6",
   "metadata": {},
   "outputs": [
    {
     "name": "stdout",
     "output_type": "stream",
     "text": [
      "<class 'pandas.core.frame.DataFrame'>\n",
      "RangeIndex: 259 entries, 0 to 258\n",
      "Data columns (total 17 columns):\n",
      " #   Column           Non-Null Count  Dtype  \n",
      "---  ------           --------------  -----  \n",
      " 0   employer_name    259 non-null    object \n",
      " 1   job_title        259 non-null    object \n",
      " 2   job_description  259 non-null    object \n",
      " 3   job_city         220 non-null    object \n",
      " 4   Python           0 non-null      boolean\n",
      " 5   R                0 non-null      boolean\n",
      " 6   SQL              0 non-null      boolean\n",
      " 7   Java             0 non-null      boolean\n",
      " 8   Scala            0 non-null      boolean\n",
      " 9   C++              0 non-null      boolean\n",
      " 10  JavaScript       0 non-null      boolean\n",
      " 11  Excel            0 non-null      boolean\n",
      " 12  Power BI         0 non-null      boolean\n",
      " 13  Tableau          0 non-null      boolean\n",
      " 14  SPSS             0 non-null      boolean\n",
      " 15  SAS              0 non-null      boolean\n",
      " 16  QlikView         0 non-null      boolean\n",
      "dtypes: boolean(13), object(4)\n",
      "memory usage: 14.8+ KB\n"
     ]
    }
   ],
   "source": [
    "df2.info()"
   ]
  },
  {
   "cell_type": "markdown",
   "id": "2bfd4993",
   "metadata": {},
   "source": [
    "We then check whether a keyword is part of a job description. If it is then we set the value of that particular keyword's column in that particular row as 1, otherwise we set it to 0. "
   ]
  },
  {
   "cell_type": "code",
   "execution_count": 9,
   "id": "d891498d",
   "metadata": {},
   "outputs": [],
   "source": [
    "df3 = df2.copy()\n",
    "for i,k in enumerate(df3['job_description']):\n",
    "    for j in data_languages:\n",
    "        text = df3['job_description'].str.lower()[i]\n",
    "        text = text.replace('\\n','')\n",
    "        text = text.replace('\\t','')\n",
    "        if j == 'R':\n",
    "            j1 = ' R '\n",
    "            j1 = j1.lower()\n",
    "        elif j == 'Scala':\n",
    "            j1 = ' Scala '\n",
    "            j1 = j1.lower()\n",
    "        else:\n",
    "            j1 = j.lower()\n",
    "        if text.find(j1) != -1:\n",
    "            df3.loc[df3.job_description==k,j] = 1\n",
    "    for j in softwares:\n",
    "        text = df3['job_description'].str.lower()[i]\n",
    "        text = text.replace('\\t','')\n",
    "        text = text.replace('\\n','')\n",
    "        j1 = j.lower()\n",
    "        if text.find(j1) != -1:\n",
    "            df3.loc[df3.job_description==k,j] = 1"
   ]
  },
  {
   "cell_type": "code",
   "execution_count": 10,
   "id": "ca8a0045",
   "metadata": {
    "scrolled": true
   },
   "outputs": [],
   "source": [
    "df3[data_languages] = df3[data_languages].fillna(0)\n",
    "df3[softwares] = df3[softwares].fillna(0)"
   ]
  },
  {
   "cell_type": "code",
   "execution_count": 11,
   "id": "23a11d63",
   "metadata": {},
   "outputs": [
    {
     "name": "stdout",
     "output_type": "stream",
     "text": [
      "<class 'pandas.core.frame.DataFrame'>\n",
      "RangeIndex: 259 entries, 0 to 258\n",
      "Data columns (total 17 columns):\n",
      " #   Column           Non-Null Count  Dtype  \n",
      "---  ------           --------------  -----  \n",
      " 0   employer_name    259 non-null    object \n",
      " 1   job_title        259 non-null    object \n",
      " 2   job_description  259 non-null    object \n",
      " 3   job_city         220 non-null    object \n",
      " 4   Python           259 non-null    boolean\n",
      " 5   R                259 non-null    boolean\n",
      " 6   SQL              259 non-null    boolean\n",
      " 7   Java             259 non-null    boolean\n",
      " 8   Scala            259 non-null    boolean\n",
      " 9   C++              259 non-null    boolean\n",
      " 10  JavaScript       259 non-null    boolean\n",
      " 11  Excel            259 non-null    boolean\n",
      " 12  Power BI         259 non-null    boolean\n",
      " 13  Tableau          259 non-null    boolean\n",
      " 14  SPSS             259 non-null    boolean\n",
      " 15  SAS              259 non-null    boolean\n",
      " 16  QlikView         259 non-null    boolean\n",
      "dtypes: boolean(13), object(4)\n",
      "memory usage: 14.8+ KB\n"
     ]
    }
   ],
   "source": [
    "df3.info()"
   ]
  },
  {
   "cell_type": "markdown",
   "id": "ed936c2f",
   "metadata": {},
   "source": [
    "Finally we select only those rows that have 'data analyst' in its job title. We then export this dataframe to a csv"
   ]
  },
  {
   "cell_type": "code",
   "execution_count": 12,
   "id": "6a2798a1",
   "metadata": {},
   "outputs": [
    {
     "name": "stdout",
     "output_type": "stream",
     "text": [
      "<class 'pandas.core.frame.DataFrame'>\n",
      "Int64Index: 189 entries, 0 to 257\n",
      "Data columns (total 17 columns):\n",
      " #   Column           Non-Null Count  Dtype  \n",
      "---  ------           --------------  -----  \n",
      " 0   employer_name    189 non-null    object \n",
      " 1   job_title        189 non-null    object \n",
      " 2   job_description  189 non-null    object \n",
      " 3   job_city         157 non-null    object \n",
      " 4   Python           189 non-null    boolean\n",
      " 5   R                189 non-null    boolean\n",
      " 6   SQL              189 non-null    boolean\n",
      " 7   Java             189 non-null    boolean\n",
      " 8   Scala            189 non-null    boolean\n",
      " 9   C++              189 non-null    boolean\n",
      " 10  JavaScript       189 non-null    boolean\n",
      " 11  Excel            189 non-null    boolean\n",
      " 12  Power BI         189 non-null    boolean\n",
      " 13  Tableau          189 non-null    boolean\n",
      " 14  SPSS             189 non-null    boolean\n",
      " 15  SAS              189 non-null    boolean\n",
      " 16  QlikView         189 non-null    boolean\n",
      "dtypes: boolean(13), object(4)\n",
      "memory usage: 12.2+ KB\n"
     ]
    }
   ],
   "source": [
    "df3 = df3[df3['job_title'].str.lower().str.find('data analyst') != -1]\n",
    "df3.info()"
   ]
  },
  {
   "cell_type": "code",
   "execution_count": 13,
   "id": "db8cb71a",
   "metadata": {},
   "outputs": [],
   "source": [
    "df3.to_csv('Data Analyst.csv',index = False)"
   ]
  },
  {
   "cell_type": "markdown",
   "id": "7c48ce63",
   "metadata": {},
   "source": [
    "# Exploratory Data Analysis"
   ]
  },
  {
   "cell_type": "code",
   "execution_count": 14,
   "id": "d9fb19bf",
   "metadata": {},
   "outputs": [
    {
     "data": {
      "image/png": "[encoded data removed]",
      "text/plain": [
       "<Figure size 864x504 with 1 Axes>"
      ]
     },
     "metadata": {
      "needs_background": "light"
     },
     "output_type": "display_data"
    }
   ],
   "source": [
    "D = dict()\n",
    "for i in data_languages:\n",
    "    D[i] = df3[i].sum()/len(df3[i])*100\n",
    "keys = list(D.keys())\n",
    "values = list(D.values())\n",
    "sorted_value_index = np.argsort(values)[::-1]\n",
    "D = {keys[i]: values[i] for i in sorted_value_index}\n",
    "plt.figure(figsize=(12,7))\n",
    "plt.bar(range(len(D)), list(D.values()), align='center',color=['#093c5f','#064e80','#0b6db0','#078be6','#078be6','#078be6','#078be6'])\n",
    "plt.xticks(range(len(D)), list(D.keys()))\n",
    "plt.xlabel('Programming Languages')\n",
    "plt.ylabel('Percentage')\n",
    "plt.show()"
   ]
  },
  {
   "cell_type": "code",
   "execution_count": 15,
   "id": "cb8c4042",
   "metadata": {},
   "outputs": [
    {
     "data": {
      "image/png": "[encoded data removed]",
      "text/plain": [
       "<Figure size 864x504 with 1 Axes>"
      ]
     },
     "metadata": {
      "needs_background": "light"
     },
     "output_type": "display_data"
    }
   ],
   "source": [
    "D = dict()\n",
    "for i in softwares:\n",
    "    D[i] = df3[i].sum()/len(df3[i])*100\n",
    "keys = list(D.keys())\n",
    "values = list(D.values())\n",
    "sorted_value_index = np.argsort(values)[::-1]\n",
    "D = {keys[i]: values[i] for i in sorted_value_index}\n",
    "plt.figure(figsize=(12,7))\n",
    "plt.bar(range(len(D)), list(D.values()), align='center',color=['#093c5f','#064e80','#0b6db0','#078be6','#078be6','#078be6'])\n",
    "plt.xticks(range(len(D)), list(D.keys()))\n",
    "plt.xlabel('Softwares')\n",
    "plt.ylabel('Percentage')\n",
    "plt.show()"
   ]
  },
  {
   "cell_type": "code",
   "execution_count": 16,
   "id": "72b86418",
   "metadata": {},
   "outputs": [
    {
     "data": {
      "image/png": "[encoded data removed]",
      "text/plain": [
       "<Figure size 720x504 with 1 Axes>"
      ]
     },
     "metadata": {},
     "output_type": "display_data"
    }
   ],
   "source": [
    "a = df3['job_city'].value_counts()\n",
    "b = []\n",
    "rest = 0\n",
    "for i in a:\n",
    "    if i<10:\n",
    "        rest+=i\n",
    "    else:\n",
    "        b.append(i)\n",
    "b.append(rest)\n",
    "c = list(a.index)\n",
    "c = c[:6]\n",
    "c.append('Others')\n",
    "plt.figure(figsize=(10,7))\n",
    "plt.pie(b,labels=c)\n",
    "plt.show()"
   ]
  },
  {
   "cell_type": "code",
   "execution_count": null,
   "id": "ab7ebec7",
   "metadata": {},
   "outputs": [],
   "source": []
  }
 ],
 "metadata": {
  "kernelspec": {
   "display_name": "Python 3 (ipykernel)",
   "language": "python",
   "name": "python3"
  },
  "language_info": {
   "codemirror_mode": {
    "name": "ipython",
    "version": 3
   },
   "file_extension": ".py",
   "mimetype": "text/x-python",
   "name": "python",
   "nbconvert_exporter": "python",
   "pygments_lexer": "ipython3",
   "version": "3.9.12"
  }
 },
 "nbformat": 4,
 "nbformat_minor": 5
}
