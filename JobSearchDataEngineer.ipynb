{
 "cells": [
  {
   "cell_type": "markdown",
   "id": "a2bf29af",
   "metadata": {},
   "source": [
    "# Importing The Libraries"
   ]
  },
  {
   "cell_type": "code",
   "execution_count": 1,
   "id": "34c64a4c",
   "metadata": {},
   "outputs": [],
   "source": [
    "import requests\n",
    "import numpy as np\n",
    "import pandas as pd\n",
    "import matplotlib.pyplot as plt\n",
    "import warnings\n",
    "warnings.filterwarnings('ignore')"
   ]
  },
  {
   "cell_type": "markdown",
   "id": "8ddea3e9",
   "metadata": {},
   "source": [
    "# Data Collection\n",
    "\n",
    "Using the JSearch API we can type in 'Data Engineer in India' and get the search results. The results are stored in JSON format "
   ]
  },
  {
   "cell_type": "code",
   "execution_count": 2,
   "id": "14c56783",
   "metadata": {},
   "outputs": [
    {
     "name": "stdout",
     "output_type": "stream",
     "text": [
      "5\n"
     ]
    }
   ],
   "source": [
    "import requests\n",
    "\n",
    "url = \"https://jsearch.p.rapidapi.com/search\"\n",
    "\n",
    "page = 1\n",
    "num_pages = 20\n",
    "dataset = []\n",
    "\n",
    "while page<=100:\n",
    "    querystring = {\"query\":\"Data Engineer in India\",\"page\":str(page),\"num_pages\":str(num_pages)}\n",
    "\n",
    "    headers = {\"X-RapidAPI-Key\": \"bf819297demsha06e93e4b9aecb1p1b16ccjsn728f04d84771\",\n",
    "               \"X-RapidAPI-Host\": \"jsearch.p.rapidapi.com\"\n",
    "    }\n",
    "\n",
    "    response = requests.get(url, headers=headers, params=querystring)\n",
    "    dataset.append(response.json())\n",
    "    page+=20\n",
    "\n",
    "print(len(dataset))\n",
    "data = response.json()\n",
    "data = data['data']"
   ]
  },
  {
   "cell_type": "markdown",
   "id": "dca7366d",
   "metadata": {},
   "source": [
    "# Data Cleaning\n",
    "\n",
    "We initialize an empty dataframe first.Then we insert employer name, job title, job description and job city into the dataframe"
   ]
  },
  {
   "cell_type": "code",
   "execution_count": 3,
   "id": "8391ebf0",
   "metadata": {},
   "outputs": [],
   "source": [
    "\n",
    "df = pd.DataFrame({'employer_name': pd.Series(dtype = 'str'),\n",
    "                'job_title': pd.Series(dtype = 'str'),\n",
    "                'job_description': pd.Series(dtype = 'str'),\n",
    "                'job_city': pd.Series(dtype = 'str')})\n"
   ]
  },
  {
   "cell_type": "code",
   "execution_count": 4,
   "id": "90dc010b",
   "metadata": {},
   "outputs": [],
   "source": [
    "j = 0\n",
    "while j<5:\n",
    "    data_new = dataset[j]\n",
    "    data = data_new['data']\n",
    "    for i in range(len(data)):\n",
    "        row = pd.Series([data[i]['employer_name'],data[i]['job_title'],data[i]['job_description'],data[i]['job_city']],index = df.columns)\n",
    "        df = df.append(row,ignore_index = True)\n",
    "    j+=1"
   ]
  },
  {
   "cell_type": "code",
   "execution_count": 5,
   "id": "aa8aee8f",
   "metadata": {
    "scrolled": true
   },
   "outputs": [
    {
     "name": "stdout",
     "output_type": "stream",
     "text": [
      "<class 'pandas.core.frame.DataFrame'>\n",
      "RangeIndex: 300 entries, 0 to 299\n",
      "Data columns (total 4 columns):\n",
      " #   Column           Non-Null Count  Dtype \n",
      "---  ------           --------------  ----- \n",
      " 0   employer_name    300 non-null    object\n",
      " 1   job_title        300 non-null    object\n",
      " 2   job_description  300 non-null    object\n",
      " 3   job_city         243 non-null    object\n",
      "dtypes: object(4)\n",
      "memory usage: 9.5+ KB\n",
      "None\n"
     ]
    }
   ],
   "source": [
    "print(df.info())"
   ]
  },
  {
   "cell_type": "markdown",
   "id": "448d16b9",
   "metadata": {},
   "source": [
    "We set the keywords that we are going to search in the job description and store them in a list. We then create new boolean columns with the same name as these items."
   ]
  },
  {
   "cell_type": "code",
   "execution_count": 6,
   "id": "9be0fd7b",
   "metadata": {},
   "outputs": [],
   "source": [
    "data_languages = ['Python','R','SQL','Java','Scala','C++','JavaScript']\n",
    "softwares = ['Excel','Power BI','Tableau','SAS','Apache Spark','Redshift','BigQuery','Airflow','Snowflake']"
   ]
  },
  {
   "cell_type": "code",
   "execution_count": 7,
   "id": "a445e0fb",
   "metadata": {},
   "outputs": [],
   "source": [
    "df2 = df.copy()\n",
    "for i in range(len(data_languages)):\n",
    "    df2[data_languages[i]] = pd.Series(dtype = 'boolean')\n",
    "for i in range(len(softwares)):\n",
    "    df2[softwares[i]] = pd.Series(dtype = 'boolean')"
   ]
  },
  {
   "cell_type": "code",
   "execution_count": 8,
   "id": "e6c7a5f7",
   "metadata": {},
   "outputs": [
    {
     "name": "stdout",
     "output_type": "stream",
     "text": [
      "<class 'pandas.core.frame.DataFrame'>\n",
      "RangeIndex: 300 entries, 0 to 299\n",
      "Data columns (total 20 columns):\n",
      " #   Column           Non-Null Count  Dtype  \n",
      "---  ------           --------------  -----  \n",
      " 0   employer_name    300 non-null    object \n",
      " 1   job_title        300 non-null    object \n",
      " 2   job_description  300 non-null    object \n",
      " 3   job_city         243 non-null    object \n",
      " 4   Python           0 non-null      boolean\n",
      " 5   R                0 non-null      boolean\n",
      " 6   SQL              0 non-null      boolean\n",
      " 7   Java             0 non-null      boolean\n",
      " 8   Scala            0 non-null      boolean\n",
      " 9   C++              0 non-null      boolean\n",
      " 10  JavaScript       0 non-null      boolean\n",
      " 11  Excel            0 non-null      boolean\n",
      " 12  Power BI         0 non-null      boolean\n",
      " 13  Tableau          0 non-null      boolean\n",
      " 14  SAS              0 non-null      boolean\n",
      " 15  Apache Spark     0 non-null      boolean\n",
      " 16  Redshift         0 non-null      boolean\n",
      " 17  BigQuery         0 non-null      boolean\n",
      " 18  Airflow          0 non-null      boolean\n",
      " 19  Snowflake        0 non-null      boolean\n",
      "dtypes: boolean(16), object(4)\n",
      "memory usage: 18.9+ KB\n"
     ]
    }
   ],
   "source": [
    "df2.info()"
   ]
  },
  {
   "cell_type": "markdown",
   "id": "0d6be928",
   "metadata": {},
   "source": [
    "We then check whether a keyword is part of a job description. If it is then we set the value of that particular keyword's column in that particular row as 1, otherwise we set it to 0. "
   ]
  },
  {
   "cell_type": "code",
   "execution_count": 9,
   "id": "6913d777",
   "metadata": {},
   "outputs": [],
   "source": [
    "df3 = df2.copy()\n",
    "for i,k in enumerate(df3['job_description']):\n",
    "    for j in data_languages:\n",
    "        text = df3['job_description'].str.lower()[i]\n",
    "        text = text.replace('\\n','')\n",
    "        text = text.replace('\\t','')\n",
    "        if j == 'R':\n",
    "            j1 = ' R '\n",
    "            j1 = j1.lower()\n",
    "        elif j == 'Scala':\n",
    "            j1 = ' Scala '\n",
    "            j1 = j1.lower()\n",
    "        else:\n",
    "            j1 = j.lower()\n",
    "        if text.find(j1) != -1:\n",
    "            df3.loc[df3.job_description==k,j] = 1\n",
    "    for j in softwares:\n",
    "        text = df3['job_description'].str.lower()[i]\n",
    "        text = text.replace('\\t','')\n",
    "        text = text.replace('\\n','')\n",
    "        j1 = j.lower()\n",
    "        if text.find(j1) != -1:\n",
    "            df3.loc[df3.job_description==k,j] = 1"
   ]
  },
  {
   "cell_type": "code",
   "execution_count": 10,
   "id": "f5400687",
   "metadata": {
    "scrolled": true
   },
   "outputs": [],
   "source": [
    "df3[data_languages] = df3[data_languages].fillna(0)\n",
    "df3[softwares] = df3[softwares].fillna(0)"
   ]
  },
  {
   "cell_type": "code",
   "execution_count": 11,
   "id": "8f3014d3",
   "metadata": {},
   "outputs": [
    {
     "name": "stdout",
     "output_type": "stream",
     "text": [
      "<class 'pandas.core.frame.DataFrame'>\n",
      "RangeIndex: 300 entries, 0 to 299\n",
      "Data columns (total 20 columns):\n",
      " #   Column           Non-Null Count  Dtype  \n",
      "---  ------           --------------  -----  \n",
      " 0   employer_name    300 non-null    object \n",
      " 1   job_title        300 non-null    object \n",
      " 2   job_description  300 non-null    object \n",
      " 3   job_city         243 non-null    object \n",
      " 4   Python           300 non-null    boolean\n",
      " 5   R                300 non-null    boolean\n",
      " 6   SQL              300 non-null    boolean\n",
      " 7   Java             300 non-null    boolean\n",
      " 8   Scala            300 non-null    boolean\n",
      " 9   C++              300 non-null    boolean\n",
      " 10  JavaScript       300 non-null    boolean\n",
      " 11  Excel            300 non-null    boolean\n",
      " 12  Power BI         300 non-null    boolean\n",
      " 13  Tableau          300 non-null    boolean\n",
      " 14  SAS              300 non-null    boolean\n",
      " 15  Apache Spark     300 non-null    boolean\n",
      " 16  Redshift         300 non-null    boolean\n",
      " 17  BigQuery         300 non-null    boolean\n",
      " 18  Airflow          300 non-null    boolean\n",
      " 19  Snowflake        300 non-null    boolean\n",
      "dtypes: boolean(16), object(4)\n",
      "memory usage: 18.9+ KB\n"
     ]
    }
   ],
   "source": [
    "df3.info()"
   ]
  },
  {
   "cell_type": "markdown",
   "id": "d2aeb95b",
   "metadata": {},
   "source": [
    "Finally we select only those rows that have 'data engineer' in its job title. We then export this dataframe to a csv"
   ]
  },
  {
   "cell_type": "code",
   "execution_count": 12,
   "id": "86ac5dc3",
   "metadata": {},
   "outputs": [
    {
     "name": "stdout",
     "output_type": "stream",
     "text": [
      "<class 'pandas.core.frame.DataFrame'>\n",
      "Int64Index: 293 entries, 0 to 299\n",
      "Data columns (total 20 columns):\n",
      " #   Column           Non-Null Count  Dtype  \n",
      "---  ------           --------------  -----  \n",
      " 0   employer_name    293 non-null    object \n",
      " 1   job_title        293 non-null    object \n",
      " 2   job_description  293 non-null    object \n",
      " 3   job_city         237 non-null    object \n",
      " 4   Python           293 non-null    boolean\n",
      " 5   R                293 non-null    boolean\n",
      " 6   SQL              293 non-null    boolean\n",
      " 7   Java             293 non-null    boolean\n",
      " 8   Scala            293 non-null    boolean\n",
      " 9   C++              293 non-null    boolean\n",
      " 10  JavaScript       293 non-null    boolean\n",
      " 11  Excel            293 non-null    boolean\n",
      " 12  Power BI         293 non-null    boolean\n",
      " 13  Tableau          293 non-null    boolean\n",
      " 14  SAS              293 non-null    boolean\n",
      " 15  Apache Spark     293 non-null    boolean\n",
      " 16  Redshift         293 non-null    boolean\n",
      " 17  BigQuery         293 non-null    boolean\n",
      " 18  Airflow          293 non-null    boolean\n",
      " 19  Snowflake        293 non-null    boolean\n",
      "dtypes: boolean(16), object(4)\n",
      "memory usage: 20.6+ KB\n"
     ]
    }
   ],
   "source": [
    "df3 = df3[df3['job_title'].str.lower().str.find('data engineer') != -1]\n",
    "df3.info()"
   ]
  },
  {
   "cell_type": "code",
   "execution_count": 13,
   "id": "0ec98290",
   "metadata": {},
   "outputs": [],
   "source": [
    "df3.to_csv('Data Engineer.csv',index = False)"
   ]
  },
  {
   "cell_type": "markdown",
   "id": "1c0cf161",
   "metadata": {},
   "source": [
    "# Exploratory Data Analysis"
   ]
  },
  {
   "cell_type": "code",
   "execution_count": 14,
   "id": "d9f07688",
   "metadata": {},
   "outputs": [
    {
     "data": {
      "image/png": "[encoded data removed]",
      "text/plain": [
       "<Figure size 864x504 with 1 Axes>"
      ]
     },
     "metadata": {
      "needs_background": "light"
     },
     "output_type": "display_data"
    }
   ],
   "source": [
    "D = dict()\n",
    "for i in data_languages:\n",
    "    D[i] = df3[i].sum()/len(df3[i])*100\n",
    "keys = list(D.keys())\n",
    "values = list(D.values())\n",
    "sorted_value_index = np.argsort(values)[::-1]\n",
    "D = {keys[i]: values[i] for i in sorted_value_index}\n",
    "plt.figure(figsize=(12,7))\n",
    "plt.bar(range(len(D)), list(D.values()), align='center',color=['#093c5f','#064e80','#0b6db0','#078be6','#078be6','#078be6','#078be6'])\n",
    "plt.xticks(range(len(D)), list(D.keys()))\n",
    "plt.xlabel('Programming Languages')\n",
    "plt.ylabel('Percentage')\n",
    "plt.show()"
   ]
  },
  {
   "cell_type": "code",
   "execution_count": 15,
   "id": "4da6c6f7",
   "metadata": {},
   "outputs": [
    {
     "data": {
      "image/png": "[encoded data removed]",
      "text/plain": [
       "<Figure size 1152x648 with 1 Axes>"
      ]
     },
     "metadata": {
      "needs_background": "light"
     },
     "output_type": "display_data"
    }
   ],
   "source": [
    "D = dict()\n",
    "for i in softwares:\n",
    "    D[i] = df3[i].sum()/len(df3[i])*100\n",
    "keys = list(D.keys())\n",
    "values = list(D.values())\n",
    "sorted_value_index = np.argsort(values)[::-1]\n",
    "D = {keys[i]: values[i] for i in sorted_value_index}\n",
    "plt.figure(figsize=(16,9))\n",
    "plt.bar(range(len(D)), list(D.values()), align='center',color=['#093c5f','#064e80','#0b6db0','#078be6','#078be6','#078be6','#078be6','#078be6','#078be6'])\n",
    "plt.xticks(range(len(D)), list(D.keys()))\n",
    "plt.xlabel('Softwares')\n",
    "plt.ylabel('Percentage')\n",
    "plt.show()"
   ]
  },
  {
   "cell_type": "code",
   "execution_count": 16,
   "id": "df9b1966",
   "metadata": {},
   "outputs": [
    {
     "data": {
      "image/png": "[encoded data removed]",
      "text/plain": [
       "<Figure size 720x504 with 1 Axes>"
      ]
     },
     "metadata": {},
     "output_type": "display_data"
    }
   ],
   "source": [
    "a = df3['job_city'].value_counts()\n",
    "b = []\n",
    "rest = 0\n",
    "for i in a:\n",
    "    if i<10:\n",
    "        rest+=i\n",
    "    else:\n",
    "        b.append(i)\n",
    "b.append(rest)\n",
    "c = list(a.index)\n",
    "c = c[:6]\n",
    "c.append('Others')\n",
    "plt.figure(figsize=(10,7))\n",
    "plt.pie(b,labels=c)\n",
    "plt.show()"
   ]
  },
  {
   "cell_type": "code",
   "execution_count": null,
   "id": "e3f401ed",
   "metadata": {},
   "outputs": [],
   "source": []
  }
 ],
 "metadata": {
  "kernelspec": {
   "display_name": "Python 3 (ipykernel)",
   "language": "python",
   "name": "python3"
  },
  "language_info": {
   "codemirror_mode": {
    "name": "ipython",
    "version": 3
   },
   "file_extension": ".py",
   "mimetype": "text/x-python",
   "name": "python",
   "nbconvert_exporter": "python",
   "pygments_lexer": "ipython3",
   "version": "3.9.12"
  }
 },
 "nbformat": 4,
 "nbformat_minor": 5
}
